{
 "cells": [
  {
   "cell_type": "markdown",
   "id": "7e7bb3c0-f3a2-4945-bf80-80021e40b66a",
   "metadata": {},
   "source": [
    "<div style=\"border:2px solid #333333; padding:10px; border-radius:6px; background:#f8f8f8; color:#333333;\">\n",
    "\n",
    "##### *<span style=\"color:#0033FF;\">Коротка довідка про країну</span>*\n",
    "    \n",
    "# **<span style=\"color:red;\">Республіка Джибуті</span>**\n",
    "#### <span style=\"font-weight:bold;\">Площа:</span><span style=\"font-weight:bold;\"> ≈ 23 200 км²</span> \n",
    "#### <span style=\"font-weight:bold;\">Населення:</span><span style=\"font-weight:bold;\"> ≈ 1,1 млн (2024)</span>\n",
    "#### <span style=\"font-weight:bold;\">Столиця:</span><span style=\"font-weight:bold;\"> Джибуті (Djibouti)</span>\n",
    "\n",
    "<div style=\"width:100%; margin-top:0px; margin-bottom:50px;\">\n",
    "<div style=\"width:100%; display: flex; justify-content: space-evenly; align-items: center;\">\n",
    "  <img src=\"Djibouti-1.jpg\" alt=\"Djibouti\" style=\"width:33.33%; border-radius:8px; box-shadow:0 0 5px rgba(0,0,0,0.3);\">\n",
    "  <img src=\"Djibouti.jpg\" alt=\"Djibouti\" style=\"width:33.33%; border-radius:8px; box-shadow:0 0 5px rgba(0,0,0,0.3);\">\n",
    "  <img src=\"Baadha_Wayn_Grand_Bara.jpg\" alt=\"Djibouti\" style=\"width:33.33%; border-radius:8px; box-shadow:0 0 5px rgba(0,0,0,0.3);\">\n",
    "</div>\n",
    "\n",
    "<div style=\"width:100%; display: flex; justify-content: space-evenly; align-items: center;\">\n",
    "  <img src=\"Lake_Assal-Djibouti.jpg\" alt=\"Lake_Assal\" style=\"width:33.33%; border-radius:8px; box-shadow:0 0 5px rgba(0,0,0,0.3);\">\n",
    "  <img src=\"African_leopard.jpg\" alt=\"African_leopard\" style=\"width:33.33%; border-radius:8px; box-shadow:0 0 5px rgba(0,0,0,0.3);\">\n",
    "  <img src=\"Port_of_Djibouti.jpg\" alt=\"Djibouti\" style=\"width:33.33%; border-radius:8px; box-shadow:0 0 5px rgba(0,0,0,0.3);\">\n",
    "</div>\n",
    "\n",
    "<div style=\"width:100%; display: flex; justify-content: space-evenly; align-items: center;\">\n",
    "  <img src=\"Grazing_camel_in_Ali_Sabieh_Region.jpg\" alt=\"Djibouti\" style=\"width:33.33%; border-radius:8px; box-shadow:0 0 5px rgba(0,0,0,0.3);\">\n",
    "  <img src=\"Beira_antelope.jpg\" alt=\"Beira antelope\" style=\"width:33.33%; border-radius:8px; box-shadow:0 0 5px rgba(0,0,0,0.3);\">\n",
    "  <img src=\"dzhibuti-2.jpg\" alt=\"Djibouti\" style=\"width:33.33%; border-radius:8px; box-shadow:0 0 5px rgba(0,0,0,0.3);\">\n",
    "</div>\n",
    "\n",
    "<div style=\"width:100%; margin-top:0px; margin-bottom:0px;\">   \n",
    "<table align=\"left\" border=\"1\" cellspacing=\"0\" cellpadding=\"5\" style=\"width:100%; margin-top:20px; margin-bottom:20px;\">\n",
    "  <tr>\n",
    "  <th style=\"text-align:left; font-weight:bold;\">Показник</th>\n",
    "  <th style=\"text-align:left; font-weight:bold;\">Дані</th>\n",
    "  </tr>\n",
    "  <tr><td>Офіційні мови</td><td>Французька, арабська</td></tr>\n",
    "  <tr><td>Форма правління</td><td>Президентська республіка</td></tr>\n",
    "  <tr><td>Валюта</td><td>Джибутійський франк (DJF)</td></tr>\n",
    "</table>\n",
    "</div>\n",
    "</div>\n",
    "\n",
    "<div style=\"font-family: Arial, sans-serif; line-height: 1.5;\">\n",
    "\n",
    "<h2 style=\"font-weight:bold;\">Пам’ятки культури та природи Джибуті</h2>\n",
    "\n",
    "<ul style=\"list-style-type: disc;\">\n",
    "\n",
    "  <li><span style=\"font-weight:bold;\">Природні пам’ятки</span>\n",
    "    <ul style=\"list-style-type: disc; margin-left: 20px;\">\n",
    "      <li><strong>Озеро Ассаль (Lac Assal)</strong>\n",
    "        <ul style=\"list-style-type: disc; margin-left: 20px;\">\n",
    "          <li>Найнижча точка Африки (≈ 155 м нижче рівня моря).</li>\n",
    "          <li>Солоне озеро з бірюзовою водою, розташоване серед вулканічних гір.</li>\n",
    "          <li>Відоме своїми <strong>соляними кристалами</strong> та відблисками сонця.</li>\n",
    "          <li>Використовується місцевими жителями для <strong>добування солі</strong>.</li>\n",
    "          <li>Туристи часто приїжджають сюди для <strong>фотографій і екологічних турів</strong>.</li>\n",
    "        </ul>\n",
    "      </li>\n",
    "      <li><strong>Національний парк Дей Форест (Day Forest National Park)</strong>\n",
    "        <ul style=\"list-style-type: disc; margin-left: 20px;\">\n",
    "          <li>Один із небагатьох зелених оазисів країни.</li>\n",
    "          <li>Ростуть рідкісні дерева — <em>джуніпер африканський</em>.</li>\n",
    "          <li>Мешкають мавпи, антилопи та понад 80 видів птахів.</li>\n",
    "        </ul>\n",
    "      </li>\n",
    "      <li><strong>Берег Таджура (Gulf of Tadjoura)</strong>\n",
    "        <ul style=\"list-style-type: disc; margin-left: 20px;\">\n",
    "          <li>Місце, де можна спостерігати <strong>дельфінів, китів і корали</strong>.</li>\n",
    "          <li>Популярне серед дайверів та екотуристів.</li>\n",
    "        </ul>\n",
    "      </li>\n",
    "    </ul>\n",
    "  </li>\n",
    "\n",
    "  <li><span style=\"font-weight:bold;\">Культурні пам’ятки</span>\n",
    "    <ul style=\"list-style-type: disc; margin-left: 20px;\">\n",
    "      <li><strong>Велика мечеть Хамуда в місті Джибуті</strong>\n",
    "        <ul style=\"list-style-type: disc; margin-left: 20px;\">\n",
    "          <li>Побудована у XIX столітті в традиційному східноафриканському стилі.</li>\n",
    "          <li>Є релігійним і історичним центром столиці.</li>\n",
    "        </ul>\n",
    "      </li>\n",
    "      <li><strong>Старе місто Таджура (Tadjoura)</strong>\n",
    "        <ul style=\"list-style-type: disc; margin-left: 20px;\">\n",
    "          <li>Одне з найдавніших поселень на узбережжі Африки.</li>\n",
    "          <li>Відоме <strong>білими будинками з різьбленими дверима</strong>.</li>\n",
    "          <li>Було важливим центром торгівлі з Аравією.</li>\n",
    "        </ul>\n",
    "      </li>\n",
    "      <li><strong>Порт Джибуті</strong>\n",
    "        <ul style=\"list-style-type: disc; margin-left: 20px;\">\n",
    "          <li>Сучасна інфраструктура, але має історичне значення як головний морський шлях Африки.</li>\n",
    "          <li>Звідси відкривається вид на Червоне море.</li>\n",
    "        </ul>\n",
    "      </li>\n",
    "    </ul>\n",
    "  </li>\n",
    "</ul>\n",
    "\n",
    "</div>\n",
    "\n",
    "![Карта](https://upload.wikimedia.org/wikipedia/commons/thumb/5/53/Location_Djibouti_AU_Africa.svg/960px-Location_Djibouti_AU_Africa.svg.png)\n",
    "\n",
    "|Джерело інформації|\n",
    "|----|\n",
    "|https://uk.wikipedia.org/wiki/Джибуті|\n",
    "\n",
    "</div>"
   ]
  },
  {
   "cell_type": "code",
   "execution_count": 5,
   "id": "b7b8e1eb-87e6-489c-82f7-fab3fae6194d",
   "metadata": {},
   "outputs": [
    {
     "data": {
      "text/html": [
       "<svg width=\"420\" height=\"280\" viewBox=\"0 0 420 280\" xmlns=\"http://www.w3.org/2000/svg\">\n",
       "  <rect x=\"0\" y=\"140\" width=\"420\" height=\"140\" fill=\"#1eb53a\" />\n",
       "  <rect x=\"0\" y=\"0\" width=\"420\" height=\"140\" fill=\"#00a3e0\" />\n",
       "  <polygon points=\"0,0 168,140 0,280\" fill=\"white\" />\n",
       "  <text x=\"38\" y=\"156\" font-size=\"54\" fill=\"#e30b17\" font-family=\"DejaVu Sans, Arial, sans-serif\">★</text>\n",
       "</svg>\n"
      ],
      "text/plain": [
       "<IPython.core.display.HTML object>"
      ]
     },
     "metadata": {},
     "output_type": "display_data"
    }
   ],
   "source": [
    "%%HTML\n",
    "<svg width=\"420\" height=\"280\" viewBox=\"0 0 420 280\" xmlns=\"http://www.w3.org/2000/svg\">\n",
    "  <rect x=\"0\" y=\"140\" width=\"420\" height=\"140\" fill=\"#1eb53a\" />\n",
    "  <rect x=\"0\" y=\"0\" width=\"420\" height=\"140\" fill=\"#00a3e0\" />\n",
    "  <polygon points=\"0,0 168,140 0,280\" fill=\"white\" />\n",
    "  <text x=\"38\" y=\"156\" font-size=\"54\" fill=\"#e30b17\" font-family=\"DejaVu Sans, Arial, sans-serif\">★</text>\n",
    "</svg>"
   ]
  },
  {
   "cell_type": "code",
   "execution_count": 18,
   "id": "5aaaeb94-e0f0-4c8b-af23-728edc391387",
   "metadata": {
    "scrolled": true
   },
   "outputs": [
    {
     "name": "stdout",
     "output_type": "stream",
     "text": [
      "Відсортований список: [5.0, 5.0, 6.0, 8.0, 12.0, 23.0]\n",
      "Кількість перестановок: 6\n",
      "Відсортований список: [5.0, 5.0, 6.0, 8.0, 12.0, 23.0]\n",
      "Кількість перестановок: 0\n",
      "Помилка: Рядок має містити лише числа, розділені пробілом.\n"
     ]
    },
    {
     "data": {
      "text/plain": [
       "([0.0, 1.0], 1)"
      ]
     },
     "execution_count": 18,
     "metadata": {},
     "output_type": "execute_result"
    }
   ],
   "source": [
    "def bubble_sort(input_str):\n",
    "    \n",
    "    if not isinstance(input_str, str):\n",
    "        raise TypeError(\"Введення має бути рядком (тип str).\")\n",
    "\n",
    "    # Розбиваємо рядок і перевіряємо, чи це числа\n",
    "    try:\n",
    "        nums = [float(x) for x in input_str.split()]\n",
    "    except ValueError:\n",
    "        raise ValueError(\"Рядок має містити лише числа, розділені пробілом.\")\n",
    "\n",
    "    n = len(nums)\n",
    "    swaps = 0  # лічильник перестановок\n",
    "\n",
    "    for i in range(n - 1):\n",
    "        for j in range(n - 1 - i):\n",
    "            # Порівнюємо сусідні елементи\n",
    "            if nums[j] > nums[j + 1]:\n",
    "                # Виконуємо перестановку через тимчасову змінну\n",
    "                temp = nums[j]\n",
    "                nums[j] = nums[j + 1]\n",
    "                nums[j + 1] = temp\n",
    "                swaps += 1  # рахуємо кожну перестановку\n",
    "\n",
    "    return nums, swaps\n",
    "\n",
    "sorted_list, swap_count = bubble_sort(\"5 6 23 8 12 5\")\n",
    "print(\"Відсортований список:\", sorted_list)\n",
    "print(\"Кількість перестановок:\", swap_count)\n",
    "\n",
    "sorted_list, swap_count = bubble_sort(\"5 5 6 8 12 23\")\n",
    "print(\"Відсортований список:\", sorted_list)\n",
    "print(\"Кількість перестановок:\", swap_count)\n",
    "\n",
    "try:\n",
    "    bubble_sort(\"5 a 3\")\n",
    "except Exception as e:\n",
    "    print(\"Помилка:\", e)\n",
    "\n",
    "sorted_list, swap_count = bubble_sort(\"1 0\")\n",
    "(sorted_list, swap_count)"
   ]
  },
  {
   "cell_type": "code",
   "execution_count": null,
   "id": "261eab07-85b1-4998-b34a-54b82d968517",
   "metadata": {},
   "outputs": [],
   "source": []
  }
 ],
 "metadata": {
  "kernelspec": {
   "display_name": "Python [conda env:base] *",
   "language": "python",
   "name": "conda-base-py"
  },
  "language_info": {
   "codemirror_mode": {
    "name": "ipython",
    "version": 3
   },
   "file_extension": ".py",
   "mimetype": "text/x-python",
   "name": "python",
   "nbconvert_exporter": "python",
   "pygments_lexer": "ipython3",
   "version": "3.13.5"
  }
 },
 "nbformat": 4,
 "nbformat_minor": 5
}
